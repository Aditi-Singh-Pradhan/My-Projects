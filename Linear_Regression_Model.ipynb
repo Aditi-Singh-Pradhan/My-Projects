{
  "nbformat": 4,
  "nbformat_minor": 0,
  "metadata": {
    "colab": {
      "provenance": []
    },
    "kernelspec": {
      "name": "python3",
      "display_name": "Python 3"
    },
    "language_info": {
      "name": "python"
    }
  },
  "cells": [
    {
      "cell_type": "code",
      "source": [
        "import numpy as np     #import libraries\n",
        "import pandas as pd\n",
        "import matplotlib.pyplot as plt\n",
        "import seaborn as sns"
      ],
      "metadata": {
        "id": "yQ7ntJFHkGRD"
      },
      "execution_count": null,
      "outputs": []
    },
    {
      "cell_type": "code",
      "source": [
        "from google.colab import drive\n",
        "drive.mount('/content/drive')\n",
        "\n",
        "# update the path where CSV is stored in Drive\n",
        "data = pd.read_csv('/content/drive/MyDrive/housing.csv')\n",
        "\n"
      ],
      "metadata": {
        "colab": {
          "base_uri": "https://localhost:8080/"
        },
        "id": "57hZ19J8kziz",
        "outputId": "bfc51bd3-c4e3-46f5-ae15-71e218cc343a"
      },
      "execution_count": null,
      "outputs": [
        {
          "output_type": "stream",
          "name": "stdout",
          "text": [
            "Drive already mounted at /content/drive; to attempt to forcibly remount, call drive.mount(\"/content/drive\", force_remount=True).\n"
          ]
        }
      ]
    },
    {
      "cell_type": "code",
      "source": [
        "data = pd.read_csv('/content/drive/MyDrive/housing.csv')\n"
      ],
      "metadata": {
        "id": "Zz5Qnwg3oUOh"
      },
      "execution_count": null,
      "outputs": []
    },
    {
      "cell_type": "code",
      "source": [
        "import os\n",
        "\n",
        "for root, dirs, files in os.walk(\"/content/drive/MyDrive\"):\n",
        "    if \"housing.csv\" in files:\n",
        "        print(\"Found at:\", os.path.join(root, \"housing.csv\"))\n",
        "        break\n"
      ],
      "metadata": {
        "colab": {
          "base_uri": "https://localhost:8080/"
        },
        "id": "ooVUgnXIoh_o",
        "outputId": "386851d0-a8e5-415b-cb15-3294b965f61b"
      },
      "execution_count": null,
      "outputs": [
        {
          "output_type": "stream",
          "name": "stdout",
          "text": [
            "Found at: /content/drive/MyDrive/housing.csv\n"
          ]
        }
      ]
    },
    {
      "cell_type": "code",
      "source": [
        "print(data.shape)       # rows, columns\n",
        "print(data.columns)     # column names\n",
        "data.head()             # first 5 rows\n",
        "data.info()             # column types and non-null counts\n",
        "data.describe()         # basic stats for numeric columns"
      ],
      "metadata": {
        "colab": {
          "base_uri": "https://localhost:8080/",
          "height": 682
        },
        "id": "AZhQc5YIov8t",
        "outputId": "bddcd4c2-b3dd-4c12-ba37-c023363aa361"
      },
      "execution_count": null,
      "outputs": [
        {
          "output_type": "stream",
          "name": "stdout",
          "text": [
            "(20640, 10)\n",
            "Index(['longitude', 'latitude', 'housing_median_age', 'total_rooms',\n",
            "       'total_bedrooms', 'population', 'households', 'median_income',\n",
            "       'median_house_value', 'ocean_proximity'],\n",
            "      dtype='object')\n",
            "<class 'pandas.core.frame.DataFrame'>\n",
            "RangeIndex: 20640 entries, 0 to 20639\n",
            "Data columns (total 10 columns):\n",
            " #   Column              Non-Null Count  Dtype  \n",
            "---  ------              --------------  -----  \n",
            " 0   longitude           20640 non-null  float64\n",
            " 1   latitude            20640 non-null  float64\n",
            " 2   housing_median_age  20640 non-null  float64\n",
            " 3   total_rooms         20640 non-null  float64\n",
            " 4   total_bedrooms      20433 non-null  float64\n",
            " 5   population          20640 non-null  float64\n",
            " 6   households          20640 non-null  float64\n",
            " 7   median_income       20640 non-null  float64\n",
            " 8   median_house_value  20640 non-null  float64\n",
            " 9   ocean_proximity     20640 non-null  object \n",
            "dtypes: float64(9), object(1)\n",
            "memory usage: 1.6+ MB\n"
          ]
        },
        {
          "output_type": "execute_result",
          "data": {
            "text/plain": [
              "          longitude      latitude  housing_median_age   total_rooms  \\\n",
              "count  20640.000000  20640.000000        20640.000000  20640.000000   \n",
              "mean    -119.569704     35.631861           28.639486   2635.763081   \n",
              "std        2.003532      2.135952           12.585558   2181.615252   \n",
              "min     -124.350000     32.540000            1.000000      2.000000   \n",
              "25%     -121.800000     33.930000           18.000000   1447.750000   \n",
              "50%     -118.490000     34.260000           29.000000   2127.000000   \n",
              "75%     -118.010000     37.710000           37.000000   3148.000000   \n",
              "max     -114.310000     41.950000           52.000000  39320.000000   \n",
              "\n",
              "       total_bedrooms    population    households  median_income  \\\n",
              "count    20433.000000  20640.000000  20640.000000   20640.000000   \n",
              "mean       537.870553   1425.476744    499.539680       3.870671   \n",
              "std        421.385070   1132.462122    382.329753       1.899822   \n",
              "min          1.000000      3.000000      1.000000       0.499900   \n",
              "25%        296.000000    787.000000    280.000000       2.563400   \n",
              "50%        435.000000   1166.000000    409.000000       3.534800   \n",
              "75%        647.000000   1725.000000    605.000000       4.743250   \n",
              "max       6445.000000  35682.000000   6082.000000      15.000100   \n",
              "\n",
              "       median_house_value  \n",
              "count        20640.000000  \n",
              "mean        206855.816909  \n",
              "std         115395.615874  \n",
              "min          14999.000000  \n",
              "25%         119600.000000  \n",
              "50%         179700.000000  \n",
              "75%         264725.000000  \n",
              "max         500001.000000  "
            ],
            "text/html": [
              "\n",
              "  <div id=\"df-084dadfa-db8e-4d2c-8b4c-788aea09f09e\" class=\"colab-df-container\">\n",
              "    <div>\n",
              "<style scoped>\n",
              "    .dataframe tbody tr th:only-of-type {\n",
              "        vertical-align: middle;\n",
              "    }\n",
              "\n",
              "    .dataframe tbody tr th {\n",
              "        vertical-align: top;\n",
              "    }\n",
              "\n",
              "    .dataframe thead th {\n",
              "        text-align: right;\n",
              "    }\n",
              "</style>\n",
              "<table border=\"1\" class=\"dataframe\">\n",
              "  <thead>\n",
              "    <tr style=\"text-align: right;\">\n",
              "      <th></th>\n",
              "      <th>longitude</th>\n",
              "      <th>latitude</th>\n",
              "      <th>housing_median_age</th>\n",
              "      <th>total_rooms</th>\n",
              "      <th>total_bedrooms</th>\n",
              "      <th>population</th>\n",
              "      <th>households</th>\n",
              "      <th>median_income</th>\n",
              "      <th>median_house_value</th>\n",
              "    </tr>\n",
              "  </thead>\n",
              "  <tbody>\n",
              "    <tr>\n",
              "      <th>count</th>\n",
              "      <td>20640.000000</td>\n",
              "      <td>20640.000000</td>\n",
              "      <td>20640.000000</td>\n",
              "      <td>20640.000000</td>\n",
              "      <td>20433.000000</td>\n",
              "      <td>20640.000000</td>\n",
              "      <td>20640.000000</td>\n",
              "      <td>20640.000000</td>\n",
              "      <td>20640.000000</td>\n",
              "    </tr>\n",
              "    <tr>\n",
              "      <th>mean</th>\n",
              "      <td>-119.569704</td>\n",
              "      <td>35.631861</td>\n",
              "      <td>28.639486</td>\n",
              "      <td>2635.763081</td>\n",
              "      <td>537.870553</td>\n",
              "      <td>1425.476744</td>\n",
              "      <td>499.539680</td>\n",
              "      <td>3.870671</td>\n",
              "      <td>206855.816909</td>\n",
              "    </tr>\n",
              "    <tr>\n",
              "      <th>std</th>\n",
              "      <td>2.003532</td>\n",
              "      <td>2.135952</td>\n",
              "      <td>12.585558</td>\n",
              "      <td>2181.615252</td>\n",
              "      <td>421.385070</td>\n",
              "      <td>1132.462122</td>\n",
              "      <td>382.329753</td>\n",
              "      <td>1.899822</td>\n",
              "      <td>115395.615874</td>\n",
              "    </tr>\n",
              "    <tr>\n",
              "      <th>min</th>\n",
              "      <td>-124.350000</td>\n",
              "      <td>32.540000</td>\n",
              "      <td>1.000000</td>\n",
              "      <td>2.000000</td>\n",
              "      <td>1.000000</td>\n",
              "      <td>3.000000</td>\n",
              "      <td>1.000000</td>\n",
              "      <td>0.499900</td>\n",
              "      <td>14999.000000</td>\n",
              "    </tr>\n",
              "    <tr>\n",
              "      <th>25%</th>\n",
              "      <td>-121.800000</td>\n",
              "      <td>33.930000</td>\n",
              "      <td>18.000000</td>\n",
              "      <td>1447.750000</td>\n",
              "      <td>296.000000</td>\n",
              "      <td>787.000000</td>\n",
              "      <td>280.000000</td>\n",
              "      <td>2.563400</td>\n",
              "      <td>119600.000000</td>\n",
              "    </tr>\n",
              "    <tr>\n",
              "      <th>50%</th>\n",
              "      <td>-118.490000</td>\n",
              "      <td>34.260000</td>\n",
              "      <td>29.000000</td>\n",
              "      <td>2127.000000</td>\n",
              "      <td>435.000000</td>\n",
              "      <td>1166.000000</td>\n",
              "      <td>409.000000</td>\n",
              "      <td>3.534800</td>\n",
              "      <td>179700.000000</td>\n",
              "    </tr>\n",
              "    <tr>\n",
              "      <th>75%</th>\n",
              "      <td>-118.010000</td>\n",
              "      <td>37.710000</td>\n",
              "      <td>37.000000</td>\n",
              "      <td>3148.000000</td>\n",
              "      <td>647.000000</td>\n",
              "      <td>1725.000000</td>\n",
              "      <td>605.000000</td>\n",
              "      <td>4.743250</td>\n",
              "      <td>264725.000000</td>\n",
              "    </tr>\n",
              "    <tr>\n",
              "      <th>max</th>\n",
              "      <td>-114.310000</td>\n",
              "      <td>41.950000</td>\n",
              "      <td>52.000000</td>\n",
              "      <td>39320.000000</td>\n",
              "      <td>6445.000000</td>\n",
              "      <td>35682.000000</td>\n",
              "      <td>6082.000000</td>\n",
              "      <td>15.000100</td>\n",
              "      <td>500001.000000</td>\n",
              "    </tr>\n",
              "  </tbody>\n",
              "</table>\n",
              "</div>\n",
              "    <div class=\"colab-df-buttons\">\n",
              "\n",
              "  <div class=\"colab-df-container\">\n",
              "    <button class=\"colab-df-convert\" onclick=\"convertToInteractive('df-084dadfa-db8e-4d2c-8b4c-788aea09f09e')\"\n",
              "            title=\"Convert this dataframe to an interactive table.\"\n",
              "            style=\"display:none;\">\n",
              "\n",
              "  <svg xmlns=\"http://www.w3.org/2000/svg\" height=\"24px\" viewBox=\"0 -960 960 960\">\n",
              "    <path d=\"M120-120v-720h720v720H120Zm60-500h600v-160H180v160Zm220 220h160v-160H400v160Zm0 220h160v-160H400v160ZM180-400h160v-160H180v160Zm440 0h160v-160H620v160ZM180-180h160v-160H180v160Zm440 0h160v-160H620v160Z\"/>\n",
              "  </svg>\n",
              "    </button>\n",
              "\n",
              "  <style>\n",
              "    .colab-df-container {\n",
              "      display:flex;\n",
              "      gap: 12px;\n",
              "    }\n",
              "\n",
              "    .colab-df-convert {\n",
              "      background-color: #E8F0FE;\n",
              "      border: none;\n",
              "      border-radius: 50%;\n",
              "      cursor: pointer;\n",
              "      display: none;\n",
              "      fill: #1967D2;\n",
              "      height: 32px;\n",
              "      padding: 0 0 0 0;\n",
              "      width: 32px;\n",
              "    }\n",
              "\n",
              "    .colab-df-convert:hover {\n",
              "      background-color: #E2EBFA;\n",
              "      box-shadow: 0px 1px 2px rgba(60, 64, 67, 0.3), 0px 1px 3px 1px rgba(60, 64, 67, 0.15);\n",
              "      fill: #174EA6;\n",
              "    }\n",
              "\n",
              "    .colab-df-buttons div {\n",
              "      margin-bottom: 4px;\n",
              "    }\n",
              "\n",
              "    [theme=dark] .colab-df-convert {\n",
              "      background-color: #3B4455;\n",
              "      fill: #D2E3FC;\n",
              "    }\n",
              "\n",
              "    [theme=dark] .colab-df-convert:hover {\n",
              "      background-color: #434B5C;\n",
              "      box-shadow: 0px 1px 3px 1px rgba(0, 0, 0, 0.15);\n",
              "      filter: drop-shadow(0px 1px 2px rgba(0, 0, 0, 0.3));\n",
              "      fill: #FFFFFF;\n",
              "    }\n",
              "  </style>\n",
              "\n",
              "    <script>\n",
              "      const buttonEl =\n",
              "        document.querySelector('#df-084dadfa-db8e-4d2c-8b4c-788aea09f09e button.colab-df-convert');\n",
              "      buttonEl.style.display =\n",
              "        google.colab.kernel.accessAllowed ? 'block' : 'none';\n",
              "\n",
              "      async function convertToInteractive(key) {\n",
              "        const element = document.querySelector('#df-084dadfa-db8e-4d2c-8b4c-788aea09f09e');\n",
              "        const dataTable =\n",
              "          await google.colab.kernel.invokeFunction('convertToInteractive',\n",
              "                                                    [key], {});\n",
              "        if (!dataTable) return;\n",
              "\n",
              "        const docLinkHtml = 'Like what you see? Visit the ' +\n",
              "          '<a target=\"_blank\" href=https://colab.research.google.com/notebooks/data_table.ipynb>data table notebook</a>'\n",
              "          + ' to learn more about interactive tables.';\n",
              "        element.innerHTML = '';\n",
              "        dataTable['output_type'] = 'display_data';\n",
              "        await google.colab.output.renderOutput(dataTable, element);\n",
              "        const docLink = document.createElement('div');\n",
              "        docLink.innerHTML = docLinkHtml;\n",
              "        element.appendChild(docLink);\n",
              "      }\n",
              "    </script>\n",
              "  </div>\n",
              "\n",
              "\n",
              "    <div id=\"df-96ba2770-8a64-489e-8ef3-a2ba98a152d1\">\n",
              "      <button class=\"colab-df-quickchart\" onclick=\"quickchart('df-96ba2770-8a64-489e-8ef3-a2ba98a152d1')\"\n",
              "                title=\"Suggest charts\"\n",
              "                style=\"display:none;\">\n",
              "\n",
              "<svg xmlns=\"http://www.w3.org/2000/svg\" height=\"24px\"viewBox=\"0 0 24 24\"\n",
              "     width=\"24px\">\n",
              "    <g>\n",
              "        <path d=\"M19 3H5c-1.1 0-2 .9-2 2v14c0 1.1.9 2 2 2h14c1.1 0 2-.9 2-2V5c0-1.1-.9-2-2-2zM9 17H7v-7h2v7zm4 0h-2V7h2v10zm4 0h-2v-4h2v4z\"/>\n",
              "    </g>\n",
              "</svg>\n",
              "      </button>\n",
              "\n",
              "<style>\n",
              "  .colab-df-quickchart {\n",
              "      --bg-color: #E8F0FE;\n",
              "      --fill-color: #1967D2;\n",
              "      --hover-bg-color: #E2EBFA;\n",
              "      --hover-fill-color: #174EA6;\n",
              "      --disabled-fill-color: #AAA;\n",
              "      --disabled-bg-color: #DDD;\n",
              "  }\n",
              "\n",
              "  [theme=dark] .colab-df-quickchart {\n",
              "      --bg-color: #3B4455;\n",
              "      --fill-color: #D2E3FC;\n",
              "      --hover-bg-color: #434B5C;\n",
              "      --hover-fill-color: #FFFFFF;\n",
              "      --disabled-bg-color: #3B4455;\n",
              "      --disabled-fill-color: #666;\n",
              "  }\n",
              "\n",
              "  .colab-df-quickchart {\n",
              "    background-color: var(--bg-color);\n",
              "    border: none;\n",
              "    border-radius: 50%;\n",
              "    cursor: pointer;\n",
              "    display: none;\n",
              "    fill: var(--fill-color);\n",
              "    height: 32px;\n",
              "    padding: 0;\n",
              "    width: 32px;\n",
              "  }\n",
              "\n",
              "  .colab-df-quickchart:hover {\n",
              "    background-color: var(--hover-bg-color);\n",
              "    box-shadow: 0 1px 2px rgba(60, 64, 67, 0.3), 0 1px 3px 1px rgba(60, 64, 67, 0.15);\n",
              "    fill: var(--button-hover-fill-color);\n",
              "  }\n",
              "\n",
              "  .colab-df-quickchart-complete:disabled,\n",
              "  .colab-df-quickchart-complete:disabled:hover {\n",
              "    background-color: var(--disabled-bg-color);\n",
              "    fill: var(--disabled-fill-color);\n",
              "    box-shadow: none;\n",
              "  }\n",
              "\n",
              "  .colab-df-spinner {\n",
              "    border: 2px solid var(--fill-color);\n",
              "    border-color: transparent;\n",
              "    border-bottom-color: var(--fill-color);\n",
              "    animation:\n",
              "      spin 1s steps(1) infinite;\n",
              "  }\n",
              "\n",
              "  @keyframes spin {\n",
              "    0% {\n",
              "      border-color: transparent;\n",
              "      border-bottom-color: var(--fill-color);\n",
              "      border-left-color: var(--fill-color);\n",
              "    }\n",
              "    20% {\n",
              "      border-color: transparent;\n",
              "      border-left-color: var(--fill-color);\n",
              "      border-top-color: var(--fill-color);\n",
              "    }\n",
              "    30% {\n",
              "      border-color: transparent;\n",
              "      border-left-color: var(--fill-color);\n",
              "      border-top-color: var(--fill-color);\n",
              "      border-right-color: var(--fill-color);\n",
              "    }\n",
              "    40% {\n",
              "      border-color: transparent;\n",
              "      border-right-color: var(--fill-color);\n",
              "      border-top-color: var(--fill-color);\n",
              "    }\n",
              "    60% {\n",
              "      border-color: transparent;\n",
              "      border-right-color: var(--fill-color);\n",
              "    }\n",
              "    80% {\n",
              "      border-color: transparent;\n",
              "      border-right-color: var(--fill-color);\n",
              "      border-bottom-color: var(--fill-color);\n",
              "    }\n",
              "    90% {\n",
              "      border-color: transparent;\n",
              "      border-bottom-color: var(--fill-color);\n",
              "    }\n",
              "  }\n",
              "</style>\n",
              "\n",
              "      <script>\n",
              "        async function quickchart(key) {\n",
              "          const quickchartButtonEl =\n",
              "            document.querySelector('#' + key + ' button');\n",
              "          quickchartButtonEl.disabled = true;  // To prevent multiple clicks.\n",
              "          quickchartButtonEl.classList.add('colab-df-spinner');\n",
              "          try {\n",
              "            const charts = await google.colab.kernel.invokeFunction(\n",
              "                'suggestCharts', [key], {});\n",
              "          } catch (error) {\n",
              "            console.error('Error during call to suggestCharts:', error);\n",
              "          }\n",
              "          quickchartButtonEl.classList.remove('colab-df-spinner');\n",
              "          quickchartButtonEl.classList.add('colab-df-quickchart-complete');\n",
              "        }\n",
              "        (() => {\n",
              "          let quickchartButtonEl =\n",
              "            document.querySelector('#df-96ba2770-8a64-489e-8ef3-a2ba98a152d1 button');\n",
              "          quickchartButtonEl.style.display =\n",
              "            google.colab.kernel.accessAllowed ? 'block' : 'none';\n",
              "        })();\n",
              "      </script>\n",
              "    </div>\n",
              "\n",
              "    </div>\n",
              "  </div>\n"
            ],
            "application/vnd.google.colaboratory.intrinsic+json": {
              "type": "dataframe",
              "summary": "{\n  \"name\": \"data\",\n  \"rows\": 8,\n  \"fields\": [\n    {\n      \"column\": \"longitude\",\n      \"properties\": {\n        \"dtype\": \"number\",\n        \"std\": 7333.554670164394,\n        \"min\": -124.35,\n        \"max\": 20640.0,\n        \"num_unique_values\": 8,\n        \"samples\": [\n          -119.56970445736432,\n          -118.49,\n          20640.0\n        ],\n        \"semantic_type\": \"\",\n        \"description\": \"\"\n      }\n    },\n    {\n      \"column\": \"latitude\",\n      \"properties\": {\n        \"dtype\": \"number\",\n        \"std\": 7286.333552413666,\n        \"min\": 2.1359523974571117,\n        \"max\": 20640.0,\n        \"num_unique_values\": 8,\n        \"samples\": [\n          35.63186143410853,\n          34.26,\n          20640.0\n        ],\n        \"semantic_type\": \"\",\n        \"description\": \"\"\n      }\n    },\n    {\n      \"column\": \"housing_median_age\",\n      \"properties\": {\n        \"dtype\": \"number\",\n        \"std\": 7288.35672120143,\n        \"min\": 1.0,\n        \"max\": 20640.0,\n        \"num_unique_values\": 8,\n        \"samples\": [\n          28.639486434108527,\n          29.0,\n          20640.0\n        ],\n        \"semantic_type\": \"\",\n        \"description\": \"\"\n      }\n    },\n    {\n      \"column\": \"total_rooms\",\n      \"properties\": {\n        \"dtype\": \"number\",\n        \"std\": 13944.990983306392,\n        \"min\": 2.0,\n        \"max\": 39320.0,\n        \"num_unique_values\": 8,\n        \"samples\": [\n          2635.7630813953488,\n          2127.0,\n          20640.0\n        ],\n        \"semantic_type\": \"\",\n        \"description\": \"\"\n      }\n    },\n    {\n      \"column\": \"total_bedrooms\",\n      \"properties\": {\n        \"dtype\": \"number\",\n        \"std\": 7106.427031043755,\n        \"min\": 1.0,\n        \"max\": 20433.0,\n        \"num_unique_values\": 8,\n        \"samples\": [\n          537.8705525375618,\n          435.0,\n          20433.0\n        ],\n        \"semantic_type\": \"\",\n        \"description\": \"\"\n      }\n    },\n    {\n      \"column\": \"population\",\n      \"properties\": {\n        \"dtype\": \"number\",\n        \"std\": 13192.258841737372,\n        \"min\": 3.0,\n        \"max\": 35682.0,\n        \"num_unique_values\": 8,\n        \"samples\": [\n          1425.4767441860465,\n          1166.0,\n          20640.0\n        ],\n        \"semantic_type\": \"\",\n        \"description\": \"\"\n      }\n    },\n    {\n      \"column\": \"households\",\n      \"properties\": {\n        \"dtype\": \"number\",\n        \"std\": 7167.532601135343,\n        \"min\": 1.0,\n        \"max\": 20640.0,\n        \"num_unique_values\": 8,\n        \"samples\": [\n          499.5396802325581,\n          409.0,\n          20640.0\n        ],\n        \"semantic_type\": \"\",\n        \"description\": \"\"\n      }\n    },\n    {\n      \"column\": \"median_income\",\n      \"properties\": {\n        \"dtype\": \"number\",\n        \"std\": 7295.721435853639,\n        \"min\": 0.4999,\n        \"max\": 20640.0,\n        \"num_unique_values\": 8,\n        \"samples\": [\n          3.8706710029069766,\n          3.5347999999999997,\n          20640.0\n        ],\n        \"semantic_type\": \"\",\n        \"description\": \"\"\n      }\n    },\n    {\n      \"column\": \"median_house_value\",\n      \"properties\": {\n        \"dtype\": \"number\",\n        \"std\": 156160.28379826449,\n        \"min\": 14999.0,\n        \"max\": 500001.0,\n        \"num_unique_values\": 8,\n        \"samples\": [\n          206855.81690891474,\n          179700.0,\n          20640.0\n        ],\n        \"semantic_type\": \"\",\n        \"description\": \"\"\n      }\n    }\n  ]\n}"
            }
          },
          "metadata": {},
          "execution_count": 7
        }
      ]
    },
    {
      "cell_type": "code",
      "source": [
        "data.isnull().sum()    #it counts missing values in each column. If any are non-zero, need to handle them (fill with median)"
      ],
      "metadata": {
        "colab": {
          "base_uri": "https://localhost:8080/",
          "height": 397
        },
        "id": "nUP_Dq4NpUaI",
        "outputId": "90c041eb-0551-4587-a4d5-4f0bc3736171"
      },
      "execution_count": null,
      "outputs": [
        {
          "output_type": "execute_result",
          "data": {
            "text/plain": [
              "longitude               0\n",
              "latitude                0\n",
              "housing_median_age      0\n",
              "total_rooms             0\n",
              "total_bedrooms        207\n",
              "population              0\n",
              "households              0\n",
              "median_income           0\n",
              "median_house_value      0\n",
              "ocean_proximity         0\n",
              "dtype: int64"
            ],
            "text/html": [
              "<div>\n",
              "<style scoped>\n",
              "    .dataframe tbody tr th:only-of-type {\n",
              "        vertical-align: middle;\n",
              "    }\n",
              "\n",
              "    .dataframe tbody tr th {\n",
              "        vertical-align: top;\n",
              "    }\n",
              "\n",
              "    .dataframe thead th {\n",
              "        text-align: right;\n",
              "    }\n",
              "</style>\n",
              "<table border=\"1\" class=\"dataframe\">\n",
              "  <thead>\n",
              "    <tr style=\"text-align: right;\">\n",
              "      <th></th>\n",
              "      <th>0</th>\n",
              "    </tr>\n",
              "  </thead>\n",
              "  <tbody>\n",
              "    <tr>\n",
              "      <th>longitude</th>\n",
              "      <td>0</td>\n",
              "    </tr>\n",
              "    <tr>\n",
              "      <th>latitude</th>\n",
              "      <td>0</td>\n",
              "    </tr>\n",
              "    <tr>\n",
              "      <th>housing_median_age</th>\n",
              "      <td>0</td>\n",
              "    </tr>\n",
              "    <tr>\n",
              "      <th>total_rooms</th>\n",
              "      <td>0</td>\n",
              "    </tr>\n",
              "    <tr>\n",
              "      <th>total_bedrooms</th>\n",
              "      <td>207</td>\n",
              "    </tr>\n",
              "    <tr>\n",
              "      <th>population</th>\n",
              "      <td>0</td>\n",
              "    </tr>\n",
              "    <tr>\n",
              "      <th>households</th>\n",
              "      <td>0</td>\n",
              "    </tr>\n",
              "    <tr>\n",
              "      <th>median_income</th>\n",
              "      <td>0</td>\n",
              "    </tr>\n",
              "    <tr>\n",
              "      <th>median_house_value</th>\n",
              "      <td>0</td>\n",
              "    </tr>\n",
              "    <tr>\n",
              "      <th>ocean_proximity</th>\n",
              "      <td>0</td>\n",
              "    </tr>\n",
              "  </tbody>\n",
              "</table>\n",
              "</div><br><label><b>dtype:</b> int64</label>"
            ]
          },
          "metadata": {},
          "execution_count": 8
        }
      ]
    },
    {
      "cell_type": "code",
      "source": [
        "#this replaces all NaN values in total_bedrooms with the median of that column\n",
        "#keeping the dataset consistent without dropping rows\n",
        "median_value = data['total_bedrooms'].median()\n",
        "data['total_bedrooms'].fillna(median_value, inplace=True)\n"
      ],
      "metadata": {
        "colab": {
          "base_uri": "https://localhost:8080/"
        },
        "id": "14Yqj06uptP_",
        "outputId": "77311167-515f-43b0-d254-e318a540d191"
      },
      "execution_count": null,
      "outputs": [
        {
          "output_type": "stream",
          "name": "stderr",
          "text": [
            "/tmp/ipython-input-3476250603.py:4: FutureWarning: A value is trying to be set on a copy of a DataFrame or Series through chained assignment using an inplace method.\n",
            "The behavior will change in pandas 3.0. This inplace method will never work because the intermediate object on which we are setting values always behaves as a copy.\n",
            "\n",
            "For example, when doing 'df[col].method(value, inplace=True)', try using 'df.method({col: value}, inplace=True)' or df[col] = df[col].method(value) instead, to perform the operation inplace on the original object.\n",
            "\n",
            "\n",
            "  data['total_bedrooms'].fillna(median_value, inplace=True)\n"
          ]
        }
      ]
    },
    {
      "cell_type": "code",
      "source": [
        "#split dataset into features (X) and target (y)\n",
        "#Here, the target is median_house_value, and the rest (except ocean_proximity which is categorical) are features\n",
        "\n",
        "# target column\n",
        "y = data['median_house_value'].values   #.values->converts column from a pandas Series into a plain NumPy array (so later we can use it in NumPy calculations)\n",
        "\n",
        "\n",
        "# drop target + categorical column from features\n",
        "X = data.drop(['median_house_value', 'ocean_proximity'], axis=1).values  #drop removes columns or rows,\n",
        "                                                                         #axis=1 means “drop along the column axis” (if it were axis=0, it would drop rows)\n",
        "\n",
        "\n",
        "print(\"Features shape:\", X.shape)\n",
        "print(\"Target shape:\", y.shape)\n"
      ],
      "metadata": {
        "colab": {
          "base_uri": "https://localhost:8080/"
        },
        "id": "v4Hvfup9qoEt",
        "outputId": "0622ac9b-0f92-4021-9b51-134c802ed373"
      },
      "execution_count": null,
      "outputs": [
        {
          "output_type": "stream",
          "name": "stdout",
          "text": [
            "Features shape: (20640, 8)\n",
            "Target shape: (20640,)\n"
          ]
        }
      ]
    },
    {
      "cell_type": "markdown",
      "source": [
        "The goal of that block of code is to Split your dataset into two parts:\n",
        "\n",
        "Training set : the model will learn patterns from this data (about 80% of the rows).\n",
        "\n",
        "Testing set : we keep this hidden until the end, so we can check how well the model performs on unseen data (about 20% of the rows)."
      ],
      "metadata": {
        "id": "QnTE5BYeEGPc"
      }
    },
    {
      "cell_type": "code",
      "source": [
        "np.random.seed(42)      #locks the random generator to always start at the same point\n",
        "\n",
        "n = X.shape[0]          #no of rows(no of houses)\n",
        "\n",
        "indices = np.random.permutation(n)   #creates a shuffled list of row indices\n",
        "\n",
        "split = int(n*0.8)     #80%train+20%test\n",
        "\n",
        "train_idx, test_idx = indices[:split], indices[split:] # :split -> everything before split(excluding split)\n",
        "                                                       # split: -> split pt + everything after\n",
        "\n",
        "X_train, X_test = X[train_idx], X[test_idx]            #extracts the rows from X and y to create new arrays.\n",
        "y_train, y_test = y[train_idx], y[test_idx]\n",
        "\n",
        "print(\"Train shapes:\", X_train.shape, y_train.shape)\n",
        "print(\"Test shapes:\", X_test.shape, y_test.shape)\n"
      ],
      "metadata": {
        "colab": {
          "base_uri": "https://localhost:8080/"
        },
        "id": "s--IP5_Ds-wv",
        "outputId": "94ac8e9b-32c6-4e5c-e955-9e193fabc148"
      },
      "execution_count": null,
      "outputs": [
        {
          "output_type": "stream",
          "name": "stdout",
          "text": [
            "Train shapes: (16512, 8) (16512,)\n",
            "Test shapes: (4128, 8) (4128,)\n"
          ]
        }
      ]
    },
    {
      "cell_type": "markdown",
      "source": [
        "The next step is **normalizing the features**.\n",
        "Why do we normalize features?\n",
        "\n",
        "feature columns(X) have very different scales.\n",
        "\n",
        "If we run gradient descent like this, features with large values will dominate the updates.\n",
        "\n",
        "Gradient descent will zig-zag and converge very slowly(or not at all).\n",
        "\n",
        "Normalization fixes this:\n",
        "\n",
        "We rescale each feature so it has mean = 0 and standard deviation = 1 (z-score normalization).\n",
        "\n",
        "After this, all features are on the same scale, making training much smoother."
      ],
      "metadata": {
        "id": "VZkYSqV1GllC"
      }
    },
    {
      "cell_type": "code",
      "source": [
        "#The plan is:\n",
        "#Compute the mean and standard deviation of each feature column from the training set.\n",
        "#Use those values to rescale both X_train and X_test.\n",
        "#(Important: we only use training stats, so we don’t “peek” at the test set.)\n",
        "\n",
        "\n",
        "feat_mean = X_train.mean(axis=0)   # mean of each column\n",
        "feat_std = X_train.mean(axis=0)    #std of each column\n",
        "\n",
        "feat_std[feat_std == 0] = 1       #boolean indexing, replaces any value of 0 in array with 1\n",
        "                                  #to avoid divide by 0 if column has no variation\n",
        "\n",
        "\n",
        "X_train_norm = (X_train - feat_mean) / feat_std   #normalize training and test sets using training stats\n",
        "X_test_norm = (X_test - feat_mean) / feat_std\n",
        "\n",
        "\n",
        "\n",
        "print(\"Before normalization:\", X_train[0])     #first training row before normalization.\n",
        "print(\"After normalization :\", X_train_norm[0])  #the exact same row after normalization."
      ],
      "metadata": {
        "colab": {
          "base_uri": "https://localhost:8080/"
        },
        "id": "NPuLCLgDG3GS",
        "outputId": "25cc099c-ce36-4faa-968a-261db25704ab"
      },
      "execution_count": null,
      "outputs": [
        {
          "output_type": "stream",
          "name": "stdout",
          "text": [
            "Before normalization: [-119.01     36.06     25.     1505.      435.     1392.      359.\n",
            "    1.6812]\n",
            "After normalization : [-0.00464287  0.01220786 -0.12763421 -0.42775282 -0.18659159 -0.02102408\n",
            " -0.2792497  -0.56563216]\n"
          ]
        }
      ]
    },
    {
      "cell_type": "markdown",
      "source": [
        "Imagine this\n",
        "\n",
        "You have a cookie shop.\n",
        "\n",
        "*   The more sugar you put in → the sweeter the cookie.\n",
        "*   The more chocolate chips you add → the tastier it gets\n",
        "\n",
        "\n",
        "\n",
        "But if someone asks:\n",
        "“How tasty will this cookie be if I add 5 spoons of sugar and 10 chips?”\n",
        "\n",
        "You want a formula that guesses tastiness from sugar and chips.\n",
        "\n",
        "We need to find a formula like:\n",
        "\n",
        "tastiness = (something × sugar) + (something × chips) + starting_point\n",
        "\n",
        "How do we learn these “somethings”?\n",
        "\n",
        "We guess them at first, test how close our prediction is to the real tastiness, then adjust:\n",
        "\n",
        "If we guessed too low → increase the weight.\n",
        "\n",
        "If we guessed too high → decrease the weight.\n",
        "\n",
        "We keep adjusting again and again until our line predicts tastiness pretty well.\n",
        "\n",
        "This “keep adjusting” is called Gradient Descent → just like slowly walking downhill until you reach the lowest point (the smallest error)"
      ],
      "metadata": {
        "id": "kGf0117rc8RS"
      }
    },
    {
      "cell_type": "code",
      "source": [
        "class NumPyLinearRegression:                                               #defined a class\n",
        "    def __init__(self, lr=0.01, n_iters=1000, verbose=False):              # def->defines a function, self->refers to the object itself, lr->learning rate, n_inters->default training steps, verbose=false->optional flag to print progress\n",
        "                                                                           # used to set up model settings\n",
        "\n",
        "\n",
        "        self.lr = lr                          #store the lr of the object\n",
        "        self.n_iters = n_iters                #store the no of steps\n",
        "        self.verbose = verbose                #store the flag\n",
        "        self.w = None                         #weights will be created later\n",
        "        self.loss_history = []                #empty list to save errors during training\n",
        "\n",
        "\n",
        "\n",
        "\n",
        "    def _add_bias(self, X):                      #helper function to find bias term(intercept)\n",
        "        ones = np.ones((X.shape[0], 1))          #make a column of 1 (with no of rows)\n",
        "        return np.hstack([ones, X])              #np.hstack means “horizontal stack” → put arrays side by side (columns).\n",
        "                                                 #[ones, X] is a list of arrays we want to stack.\n",
        "                                                 #So this attaches the column of ones in front of X.\n",
        "\n",
        "\n",
        "\n",
        "    def fit(self, X, y):                         # fit is a std ML name for \"Train the Model\", loop to adjust weight until error is small\n",
        "      Xb = self._add_bias(X)                     # Xb-> same as X but with bias column\n",
        "      n_samples, n_features = Xb.shape\n",
        "\n",
        "      self.w = np.zeros((n_features, 1))        #creates a column vector of zeroes for weights, 1 per feature(+bias)\n",
        "      y = y.reshape(-1, 1)                      #force y to be a column vector, -1 ->figure out the dimension, 1-> make it into a column\n",
        "\n",
        "\n",
        "      for i in range(self.n_iters):             #run loop n_iters tiems\n",
        "\n",
        "        pred = Xb.dot(self.w)                   #matrix multiplication ->predicted values\n",
        "\n",
        "        error = pred - y                        #difference btw predictions and actual\n",
        "\n",
        "        loss = np.mean(error ** 2) / 2          #compute mean squared error\n",
        "        self.loss_history.append(loss)          #save it in loss_histroy so we can plot it later\n",
        "\n",
        "        grad = (2/n_samples) * Xb.T.dot(error)  #slope of error\n",
        "\n",
        "        self.w = self.w - self.lr * grad        #adjust the weights\n",
        "\n",
        "        if self.verbose and i % 100 == 0:                    #every 100 steps,print current iteration and lose(if verbose=true)\n",
        "                print(f\"Iteration {i}, Loss: {loss:.4f}\")    #f\"....\" -> f-string: lets u put variables directly inside a string\n",
        "\n",
        "\n",
        "    def predict(self, X):                     #use trained weights to get new values\n",
        "        Xb = self._add_bias(X)            #add bias to X\n",
        "        return Xb.dot(self.w)             #multiplies by weights to get prediction\n",
        "\n",
        "\n",
        "\n",
        "\n"
      ],
      "metadata": {
        "id": "a3jCmPmVb0Uf"
      },
      "execution_count": null,
      "outputs": []
    },
    {
      "cell_type": "markdown",
      "source": [
        "First guess: completely off.\n",
        "\n",
        "They tell you “you guessed too low.”\n",
        "\n",
        "Next time you guess higher.\n",
        "\n",
        "Keep adjusting until your guesses match reality.\n",
        "\n",
        "Training = error goes down, weights get better, model learns patterns."
      ],
      "metadata": {
        "id": "2axSnexEshkl"
      }
    },
    {
      "cell_type": "code",
      "source": [
        "# Create and train model on normalized data\n",
        "model = NumPyLinearRegression(lr=0.005, n_iters=5000, verbose=True)\n",
        "model.fit(X_train_norm, y_train_norm)\n",
        "# plot loss\n",
        "plt.plot(model.loss_history)\n",
        "plt.xlabel(\"Iteration\")\n",
        "plt.ylabel(\"MSE (normalized y)\")\n",
        "plt.title(\"Training loss\")\n",
        "plt.show()\n"
      ],
      "metadata": {
        "colab": {
          "base_uri": "https://localhost:8080/",
          "height": 1000
        },
        "id": "aLck8c0N2Oxy",
        "outputId": "a1c8bc00-4c19-4be4-f36b-1ab564afbee8"
      },
      "execution_count": null,
      "outputs": [
        {
          "output_type": "stream",
          "name": "stdout",
          "text": [
            "Iteration 0, Loss: 0.5000\n",
            "Iteration 100, Loss: 0.3995\n",
            "Iteration 200, Loss: 0.3387\n",
            "Iteration 300, Loss: 0.3006\n",
            "Iteration 400, Loss: 0.2763\n",
            "Iteration 500, Loss: 0.2606\n",
            "Iteration 600, Loss: 0.2500\n",
            "Iteration 700, Loss: 0.2428\n",
            "Iteration 800, Loss: 0.2378\n",
            "Iteration 900, Loss: 0.2341\n",
            "Iteration 1000, Loss: 0.2313\n",
            "Iteration 1100, Loss: 0.2291\n",
            "Iteration 1200, Loss: 0.2273\n",
            "Iteration 1300, Loss: 0.2259\n",
            "Iteration 1400, Loss: 0.2247\n",
            "Iteration 1500, Loss: 0.2236\n",
            "Iteration 1600, Loss: 0.2227\n",
            "Iteration 1700, Loss: 0.2219\n",
            "Iteration 1800, Loss: 0.2212\n",
            "Iteration 1900, Loss: 0.2206\n",
            "Iteration 2000, Loss: 0.2200\n",
            "Iteration 2100, Loss: 0.2195\n",
            "Iteration 2200, Loss: 0.2190\n",
            "Iteration 2300, Loss: 0.2185\n",
            "Iteration 2400, Loss: 0.2181\n",
            "Iteration 2500, Loss: 0.2178\n",
            "Iteration 2600, Loss: 0.2174\n",
            "Iteration 2700, Loss: 0.2171\n",
            "Iteration 2800, Loss: 0.2168\n",
            "Iteration 2900, Loss: 0.2165\n",
            "Iteration 3000, Loss: 0.2163\n",
            "Iteration 3100, Loss: 0.2161\n",
            "Iteration 3200, Loss: 0.2159\n",
            "Iteration 3300, Loss: 0.2157\n",
            "Iteration 3400, Loss: 0.2155\n",
            "Iteration 3500, Loss: 0.2153\n",
            "Iteration 3600, Loss: 0.2151\n",
            "Iteration 3700, Loss: 0.2150\n",
            "Iteration 3800, Loss: 0.2149\n",
            "Iteration 3900, Loss: 0.2147\n",
            "Iteration 4000, Loss: 0.2146\n",
            "Iteration 4100, Loss: 0.2145\n",
            "Iteration 4200, Loss: 0.2144\n",
            "Iteration 4300, Loss: 0.2143\n",
            "Iteration 4400, Loss: 0.2142\n",
            "Iteration 4500, Loss: 0.2141\n",
            "Iteration 4600, Loss: 0.2140\n",
            "Iteration 4700, Loss: 0.2140\n",
            "Iteration 4800, Loss: 0.2139\n",
            "Iteration 4900, Loss: 0.2138\n"
          ]
        },
        {
          "output_type": "display_data",
          "data": {
            "text/plain": [
              "<Figure size 640x480 with 1 Axes>"
            ],
            "image/png": "[encoded data removed]"
          },
          "metadata": {}
        }
      ]
    },
    {
      "cell_type": "code",
      "source": [
        "# Predict (normalized), then rescale to original house values\n",
        "y_train_pred_norm = model.predict(X_train_norm)   # shape (n,1)\n",
        "y_test_pred_norm  = model.predict(X_test_norm)\n",
        "y_train_pred = (y_train_pred_norm * y_std) + y_mean\n",
        "y_test_pred  = (y_test_pred_norm  * y_std) + y_mean\n",
        "# flatten for convenience\n",
        "y_train_pred = y_train_pred.flatten()\n",
        "y_test_pred  = y_test_pred.flatten()"
      ],
      "metadata": {
        "id": "7g_165tpHE0z"
      },
      "execution_count": null,
      "outputs": []
    },
    {
      "cell_type": "markdown",
      "source": [
        "#Evaluation Metrics for regression models\n",
        "\n",
        "MSE-> Mean square root error, average of squared errors\n",
        "\n",
        "RMSE -> Root mean square error, root of MSE\n",
        "\n",
        "MAE-> Mean absolute error, average mistake value\n",
        "\n",
        "R^2 -> Coefficient of Determination,\n",
        "\n",
        "R^2 = 1 : Perfect prediction\n",
        "\n",
        "......= 0 : no better than predicting mean\n",
        "\n",
        "......<0 : worse than predicting the mean\n",
        "  "
      ],
      "metadata": {
        "id": "l6Bq2GrcLAYQ"
      }
    },
    {
      "cell_type": "code",
      "source": [
        "def mse(y_true, y_pred):\n",
        "  return np.mean((y_true.flatten() - y_pred.flatten())**2)\n",
        "\n",
        "def rmse(y_true, y_pred):\n",
        "  return np.sqrt(mse(y_true, y_pred))\n",
        "\n",
        "def mae(y_true, y_pred):\n",
        "  return np.mean(np.abs(y_true.flatten() - y_pred.flatten()))\n",
        "\n",
        "def r2_score(y_true, y_pred):\n",
        "    ss_res = np.sum((y_true.flatten() - y_pred.flatten())**2)\n",
        "    ss_tot = np.sum((y_true.flatten() - np.mean(y_true))**2)\n",
        "    return 1 - ss_res/ss_tot\n",
        "\n",
        "\n",
        "print(\"TRAIN Metrics\")\n",
        "print(\"MSE :\", mse(y_train, y_train_pred))\n",
        "print(\"RMSE:\", rmse(y_train, y_train_pred))\n",
        "print(\"MAE :\", mae(y_train, y_train_pred))\n",
        "print(\"R²  :\", r2_score(y_train, y_train_pred))\n",
        "\n",
        "print(\"\\nTEST Metrics\")\n",
        "print(\"MSE :\", mse(y_test, y_test_pred))\n",
        "print(\"RMSE:\", rmse(y_test, y_test_pred))\n",
        "print(\"MAE :\", mae(y_test, y_test_pred))\n",
        "print(\"R²  :\", r2_score(y_test, y_test_pred))\n",
        "\n",
        "plt.figure(figsize=(10,4))\n",
        "\n",
        "# scatter actual vs predicted\n",
        "plt.subplot(1,2,1)\n",
        "plt.scatter(y_test, y_test_pred, alpha=0.3, s=10)\n",
        "plt.plot([y_test.min(), y_test.max()], [y_test.min(), y_test.max()], 'r--')\n",
        "plt.xlabel(\"Actual\")\n",
        "plt.ylabel(\"Predicted\")\n",
        "plt.title(\"Predicted vs Actual (test)\")\n",
        "\n",
        "# residuals histogram\n",
        "plt.subplot(1,2,2)\n",
        "residuals = y_test - y_test_pred\n",
        "plt.hist(residuals, bins=50)\n",
        "plt.title(\"Residuals (test)\")\n",
        "plt.xlabel(\"Error (actual - predicted)\")\n",
        "plt.tight_layout()\n",
        "plt.show()\n",
        "\n"
      ],
      "metadata": {
        "colab": {
          "base_uri": "https://localhost:8080/",
          "height": 598
        },
        "id": "RbgfpvIkeU1p",
        "outputId": "2d6a9b52-c7a4-420e-a47d-30f65dfe6179"
      },
      "execution_count": null,
      "outputs": [
        {
          "output_type": "stream",
          "name": "stdout",
          "text": [
            "TRAIN Metrics\n",
            "MSE : 5699619816.19227\n",
            "RMSE: 75495.82648194714\n",
            "MAE : 56002.13107440453\n",
            "R²  : 0.5707916056636148\n",
            "\n",
            "TEST Metrics\n",
            "MSE : 6134454220.736682\n",
            "RMSE: 78322.75672329646\n",
            "MAE : 57076.80512770071\n",
            "R²  : 0.5442413185572631\n"
          ]
        },
        {
          "output_type": "display_data",
          "data": {
            "text/plain": [
              "<Figure size 1000x400 with 2 Axes>"
            ],
            "image/png": "[encoded data removed]"
          },
          "metadata": {}
        }
      ]
    }
  ]
}